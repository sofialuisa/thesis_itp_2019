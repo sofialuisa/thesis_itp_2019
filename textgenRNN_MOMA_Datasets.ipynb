{
 "cells": [
  {
   "cell_type": "markdown",
   "metadata": {},
   "source": [
    "# Neural network text prediction with `textgenrnn`\n",
    "Source: Allison Parrish's RWET class resources (http://www.decontextualize.com/)\n"
   ]
  },
  {
   "cell_type": "code",
   "execution_count": 1,
   "metadata": {
    "scrolled": true
   },
   "outputs": [
    {
     "name": "stdout",
     "output_type": "stream",
     "text": [
      "Solving environment: done\n",
      "\n",
      "## Package Plan ##\n",
      "\n",
      "  environment location: /anaconda3\n",
      "\n",
      "  added / updated specs: \n",
      "    - keras\n",
      "\n",
      "\n",
      "The following packages will be downloaded:\n",
      "\n",
      "    package                    |            build\n",
      "    ---------------------------|-----------------\n",
      "    gast-0.2.2                 |           py36_0         138 KB\n",
      "    grpcio-1.16.1              |   py36h044775b_1         944 KB\n",
      "    ca-certificates-2019.1.23  |                0         126 KB\n",
      "    libcurl-7.63.0             |    h051b688_1000         532 KB\n",
      "    pycurl-7.43.0.2            |   py36ha12b0ac_0         185 KB\n",
      "    tensorflow-1.9.0           |mkl_py36h4fc8490_1           4 KB\n",
      "    sqlite-3.26.0              |       ha441bb4_0         2.3 MB\n",
      "    conda-4.6.4                |           py36_0         1.7 MB\n",
      "    certifi-2018.11.29         |           py36_0         146 KB\n",
      "    tensorflow-base-1.9.0      |mkl_py36h70e0e9a_0        74.4 MB\n",
      "    python-3.6.8               |       haf84260_0        20.5 MB\n",
      "    keras-base-2.2.4           |           py36_0         457 KB\n",
      "    libedit-3.1.20181209       |       hb402a30_0         159 KB\n",
      "    tensorboard-1.9.0          |   py36hdc36e2c_0         3.3 MB\n",
      "    keras-2.2.4                |                0           5 KB\n",
      "    cryptography-2.5           |   py36ha12b0ac_0         590 KB\n",
      "    krb5-1.16.1                |       hddcf347_7         1.1 MB\n",
      "    curl-7.63.0                |    ha441bb4_1000         138 KB\n",
      "    c-ares-1.15.0              |       h1de35cc_1          81 KB\n",
      "    absl-py-0.7.0              |           py36_0         156 KB\n",
      "    ------------------------------------------------------------\n",
      "                                           Total:       106.9 MB\n",
      "\n",
      "The following NEW packages will be INSTALLED:\n",
      "\n",
      "    _tflow_select:       2.3.0-mkl               \n",
      "    absl-py:             0.7.0-py36_0            \n",
      "    astor:               0.7.1-py36_0            \n",
      "    c-ares:              1.15.0-h1de35cc_1       \n",
      "    gast:                0.2.2-py36_0            \n",
      "    grpcio:              1.16.1-py36h044775b_1   \n",
      "    keras-applications:  1.0.6-py36_0            \n",
      "    keras-base:          2.2.4-py36_0            \n",
      "    keras-preprocessing: 1.0.5-py36_0            \n",
      "    krb5:                1.16.1-hddcf347_7       \n",
      "    libcurl:             7.63.0-h051b688_1000    \n",
      "    markdown:            3.0.1-py36_0            \n",
      "    tensorboard:         1.9.0-py36hdc36e2c_0    \n",
      "    tensorflow-base:     1.9.0-mkl_py36h70e0e9a_0\n",
      "\n",
      "The following packages will be UPDATED:\n",
      "\n",
      "    ca-certificates:     2018.03.07-0             --> 2019.1.23-0             \n",
      "    certifi:             2018.10.15-py36_0        --> 2018.11.29-py36_0       \n",
      "    conda:               4.5.11-py36_0            --> 4.6.4-py36_0            \n",
      "    cryptography:        2.0.3-py36h22d4226_1     --> 2.5-py36ha12b0ac_0      \n",
      "    curl:                7.55.1-h7601780_3        --> 7.63.0-ha441bb4_1000    \n",
      "    keras:               2.1.5-py36_0             --> 2.2.4-0                 \n",
      "    libedit:             3.1-hb4e282d_0           --> 3.1.20181209-hb402a30_0 \n",
      "    ncurses:             6.0-ha932d30_1           --> 6.1-h0a44026_1          \n",
      "    openssl:             1.0.2p-h1de35cc_0        --> 1.1.1a-h1de35cc_0       \n",
      "    pycurl:              7.43.0-py36hdb90038_3    --> 7.43.0.2-py36ha12b0ac_0 \n",
      "    python:              3.6.3-h6804ab2_0         --> 3.6.8-haf84260_0        \n",
      "    readline:            7.0-h81b24a6_3           --> 7.0-h1de35cc_5          \n",
      "    sqlite:              3.20.1-h900c3b0_1        --> 3.26.0-ha441bb4_0       \n",
      "    tensorflow:          1.1.0-np112py36_0        --> 1.9.0-mkl_py36h4fc8490_1\n",
      "    tk:                  8.6.7-hcdce994_1         --> 8.6.8-ha441bb4_0        \n",
      "    xz:                  5.2.3-ha24016e_1         --> 5.2.4-h1de35cc_4        \n",
      "\n",
      "\n",
      "Downloading and Extracting Packages\n",
      "gast-0.2.2           | 138 KB    | ##################################### | 100% \n",
      "grpcio-1.16.1        | 944 KB    | ##################################### | 100% \n",
      "ca-certificates-2019 | 126 KB    | ##################################### | 100% \n",
      "libcurl-7.63.0       | 532 KB    | ##################################### | 100% \n",
      "pycurl-7.43.0.2      | 185 KB    | ##################################### | 100% \n",
      "tensorflow-1.9.0     | 4 KB      | ##################################### | 100% \n",
      "sqlite-3.26.0        | 2.3 MB    | ##################################### | 100% \n",
      "conda-4.6.4          | 1.7 MB    | ##################################### | 100% \n",
      "certifi-2018.11.29   | 146 KB    | ##################################### | 100% \n",
      "tensorflow-base-1.9. | 74.4 MB   | ##################################### | 100% \n",
      "python-3.6.8         | 20.5 MB   | ##################################### | 100% \n",
      "keras-base-2.2.4     | 457 KB    | ##################################### | 100% \n",
      "libedit-3.1.20181209 | 159 KB    | ##################################### | 100% \n",
      "tensorboard-1.9.0    | 3.3 MB    | ##################################### | 100% \n",
      "keras-2.2.4          | 5 KB      | ##################################### | 100% \n",
      "cryptography-2.5     | 590 KB    | ##################################### | 100% \n",
      "krb5-1.16.1          | 1.1 MB    | ##################################### | 100% \n",
      "curl-7.63.0          | 138 KB    | ##################################### | 100% \n",
      "c-ares-1.15.0        | 81 KB     | ##################################### | 100% \n",
      "absl-py-0.7.0        | 156 KB    | ##################################### | 100% \n",
      "Preparing transaction: done\n",
      "Verifying transaction: done\n",
      "Executing transaction: done\n"
     ]
    }
   ],
   "source": [
    "!conda install -y keras"
   ]
  },
  {
   "cell_type": "markdown",
   "metadata": {},
   "source": [
    "installing textgenrnn with `pip`:"
   ]
  },
  {
   "cell_type": "code",
   "execution_count": 2,
   "metadata": {},
   "outputs": [
    {
     "name": "stdout",
     "output_type": "stream",
     "text": [
      "Requirement already satisfied: textgenrnn in /anaconda3/lib/python3.6/site-packages (0.1.1)\n",
      "Requirement already satisfied: h5py in /anaconda3/lib/python3.6/site-packages (from textgenrnn) (2.7.0)\n",
      "Requirement already satisfied: tensorflow in /anaconda3/lib/python3.6/site-packages (from textgenrnn) (1.9.0)\n",
      "Requirement already satisfied: keras in /anaconda3/lib/python3.6/site-packages (from textgenrnn) (2.2.4)\n",
      "Requirement already satisfied: numpy>=1.7 in /anaconda3/lib/python3.6/site-packages (from h5py->textgenrnn) (1.14.2)\n",
      "Requirement already satisfied: six in /anaconda3/lib/python3.6/site-packages (from h5py->textgenrnn) (1.11.0)\n",
      "Requirement already satisfied: tensorboard<1.10.0,>=1.9.0 in /anaconda3/lib/python3.6/site-packages (from tensorflow->textgenrnn) (1.9.0)\n",
      "Requirement already satisfied: absl-py>=0.1.6 in /anaconda3/lib/python3.6/site-packages (from tensorflow->textgenrnn) (0.7.0)\n",
      "Requirement already satisfied: setuptools<=39.1.0 in /anaconda3/lib/python3.6/site-packages (from tensorflow->textgenrnn) (36.5.0.post20170921)\n",
      "Requirement already satisfied: termcolor>=1.1.0 in /anaconda3/lib/python3.6/site-packages (from tensorflow->textgenrnn) (1.1.0)\n",
      "Requirement already satisfied: gast>=0.2.0 in /anaconda3/lib/python3.6/site-packages (from tensorflow->textgenrnn) (0.2.2)\n",
      "Requirement already satisfied: astor>=0.6.0 in /anaconda3/lib/python3.6/site-packages (from tensorflow->textgenrnn) (0.7.1)\n",
      "Requirement already satisfied: protobuf>=3.4.0 in /anaconda3/lib/python3.6/site-packages (from tensorflow->textgenrnn) (3.5.1)\n",
      "Requirement already satisfied: wheel>=0.26 in /anaconda3/lib/python3.6/site-packages (from tensorflow->textgenrnn) (0.29.0)\n",
      "Requirement already satisfied: grpcio>=1.8.6 in /anaconda3/lib/python3.6/site-packages (from tensorflow->textgenrnn) (1.16.1)\n",
      "Requirement already satisfied: scipy>=0.14 in /anaconda3/lib/python3.6/site-packages (from keras->textgenrnn) (0.19.1)\n",
      "Requirement already satisfied: pyyaml in /anaconda3/lib/python3.6/site-packages (from keras->textgenrnn) (3.12)\n",
      "Requirement already satisfied: keras_applications>=1.0.6 in /anaconda3/lib/python3.6/site-packages (from keras->textgenrnn) (1.0.6)\n",
      "Requirement already satisfied: keras_preprocessing>=1.0.5 in /anaconda3/lib/python3.6/site-packages (from keras->textgenrnn) (1.0.5)\n",
      "Requirement already satisfied: werkzeug>=0.11.10 in /anaconda3/lib/python3.6/site-packages (from tensorboard<1.10.0,>=1.9.0->tensorflow->textgenrnn) (0.12.2)\n",
      "Requirement already satisfied: markdown>=2.6.8 in /anaconda3/lib/python3.6/site-packages (from tensorboard<1.10.0,>=1.9.0->tensorflow->textgenrnn) (3.0.1)\n",
      "\u001b[33mYou are using pip version 18.1, however version 19.0.2 is available.\n",
      "You should consider upgrading via the 'pip install --upgrade pip' command.\u001b[0m\n"
     ]
    }
   ],
   "source": [
    "!pip install textgenrnn"
   ]
  },
  {
   "cell_type": "markdown",
   "metadata": {},
   "source": [
    "Importing the `textgenrnn` class from the package:"
   ]
  },
  {
   "cell_type": "code",
   "execution_count": 3,
   "metadata": {},
   "outputs": [
    {
     "name": "stderr",
     "output_type": "stream",
     "text": [
      "/anaconda3/lib/python3.6/site-packages/h5py/__init__.py:34: FutureWarning: Conversion of the second argument of issubdtype from `float` to `np.floating` is deprecated. In future, it will be treated as `np.float64 == np.dtype(float).type`.\n",
      "  from ._conv import register_converters as _register_converters\n",
      "Using TensorFlow backend.\n"
     ]
    }
   ],
   "source": [
    "from textgenrnn import textgenrnn"
   ]
  },
  {
   "cell_type": "markdown",
   "metadata": {},
   "source": [
    "Creating a new `textgenrnn` object:"
   ]
  },
  {
   "cell_type": "code",
   "execution_count": 4,
   "metadata": {
    "collapsed": true
   },
   "outputs": [],
   "source": [
    "textgen = textgenrnn()"
   ]
  },
  {
   "cell_type": "markdown",
   "metadata": {},
   "source": [
    "Training on the moma dataset using `.train_on_texts()` method, passing in a list of strings. "
   ]
  },
  {
   "cell_type": "code",
   "execution_count": 10,
   "metadata": {
    "scrolled": true
   },
   "outputs": [
    {
     "name": "stdout",
     "output_type": "stream",
     "text": [
      "Epoch 1/1\n",
      "62157/62157 [==============================] - 125s 2ms/step - loss: 1.0625\n"
     ]
    }
   ],
   "source": [
    "textgen.train_on_texts(open(\"moma_2000artworkmediums.txt\").readlines(), num_epochs=1)"
   ]
  },
  {
   "cell_type": "markdown",
   "metadata": {},
   "source": [
    "And now generating 100 lines of temperature 0.3 generations (default temp is 0.2, the higher the more unpredictable the results):"
   ]
  },
  {
   "cell_type": "code",
   "execution_count": 29,
   "metadata": {},
   "outputs": [
    {
     "name": "stdout",
     "output_type": "stream",
     "text": [
      "Crayles on paper\n",
      "Graphite on paper\n",
      "Cassed colored pencil on paper\n",
      "Carric and paper\n",
      "Graphite and plastic\n",
      "Garded pencil on paper\n",
      "Cassed pencil on paper\n",
      "Carric paper\n",
      "Crayled pencil on paper\n",
      "Catal painted polypard\n",
      "In aluminum\n",
      "Cassed colored pencil on tracing paper\n",
      "Warted colored pencil on paper\n",
      "Garded painted plastic\n",
      "Cass\n",
      "Garded plastic\n",
      "Cass on paper\n",
      "Crassic paper\n",
      "Cating\n",
      "Cass\n",
      "Cating on paper\n",
      "Prastery colored pencil on paper\n",
      "Polas and polyethylene\n",
      "Crayled on paper\n",
      "Polas and paper\n",
      "Cass on tracing paper\n",
      "Polas and polyethylene\n",
      "Crayled on tracing paper\n",
      "Cathed polyetre\n",
      "Cating on paper\n",
      "In acrylic steel on tracing paper\n",
      "Polas on paper\n",
      "Polas and polyethylene\n",
      "Carric paper\n",
      "Carric paper\n",
      "Cass on paper\n",
      "Garded pencil on tracing paper\n",
      "In aBstated painted polyethylene\n",
      "Crayon on paper\n",
      "Cass on paper\n",
      "Cass\n",
      "Cating steel and polyethylene\n",
      "Crayles and acrylic\n",
      "Garded polyethylene\n",
      "Cassed painted color pencil on paper\n",
      "Crayles on tracing paper\n",
      "Cassed steel\n",
      "Cass\n",
      "Steel and paper on paper\n",
      "Garded pencil on paper\n",
      "Crayles with colored pencil on paper\n",
      "Crayled on paper\n",
      "Cassed printed silver paper\n",
      "Pras\n",
      "Cass on paper\n",
      "Cass\n",
      "Ith and plastic\n",
      "Catal stainless steel\n",
      "Crayles and polyethylene\n",
      "Casselless steel\n",
      "Crayled plastic\n",
      "Graphite and colored pencil on tracing paper\n",
      "Garded polyethylene\n",
      "Carrine\n",
      "Catal pas and graphite on tracing paper\n",
      "Cass on paper\n",
      "Cass\n",
      "Polas and painted colored pencil on paper\n",
      "Carric paper\n",
      "Carric paper\n",
      "Cating on paper\n",
      "Cass on paper\n",
      "Cass\n",
      "Cating on paper\n",
      "Cass and color pencil on paper\n",
      "Carric paper\n",
      "Handractin silver plastic, and linen\n",
      "Garded polyethylene\n",
      "Ite on paper\n",
      "Cating and stainless steel\n",
      "Craylactic stainless stainless steel\n",
      "Cass on paper\n",
      "Carric paper\n",
      "Crayled on tracing paper\n",
      "Cating on paper\n",
      "Graphite steel on paper\n",
      "Cating on paper\n",
      "Crayled on paper\n",
      "Crayles\n",
      "Carded polyethylene\n",
      "Cathles on paper\n",
      "Caras on paper\n",
      "Cassed painted polyethylene\n",
      "Polas and polyethylene\n",
      "Garded pencil on tracing paper\n",
      "GoU and painted steel on tracing paper\n",
      "Cassed painted polyethylene\n",
      "Ite and polypropylene\n",
      "Paper and colored pencil on paper\n",
      "Ite on paper\n"
     ]
    }
   ],
   "source": [
    "mediums_list = textgen.generate(100, temperature=0.3, return_as_list=True)\n",
    "for line in mediums_list:\n",
    "    print(line.strip())"
   ]
  },
  {
   "cell_type": "markdown",
   "metadata": {},
   "source": [
    "Creating another object to generate the worktitles now, the same way:"
   ]
  },
  {
   "cell_type": "code",
   "execution_count": 39,
   "metadata": {
    "collapsed": true
   },
   "outputs": [],
   "source": [
    "textgen2 = textgenrnn()"
   ]
  },
  {
   "cell_type": "code",
   "execution_count": 40,
   "metadata": {
    "scrolled": true
   },
   "outputs": [
    {
     "name": "stdout",
     "output_type": "stream",
     "text": [
      "Epoch 1/1\n",
      "91126/91126 [==============================] - 186s 2ms/step - loss: 1.6166\n"
     ]
    }
   ],
   "source": [
    "textgen2.train_on_texts(open(\"moma_2000artworktitles.txt\").readlines(), num_epochs=1)"
   ]
  },
  {
   "cell_type": "code",
   "execution_count": 43,
   "metadata": {},
   "outputs": [
    {
     "name": "stdout",
     "output_type": "stream",
     "text": [
      "Trump (Perice, I (Perice of project, Project, Mexico, Seatton Section (Propers)\n",
      "The House Plan Proceers\n",
      "Set Project, Mexical Van Trigunele, Project, Pro Paris, Selt Berner, Project, Section (Prelimitary project, Project, Prince of Section (Pro. The Moder (Pericity, perspective)\n",
      "Secide Hologue\n",
      "The Mitches\n",
      "Selt Paris project, Project, Perison Sectional Mexico, Electure Building, Liland, Project, Project, America, Project, Project, Second Project, Pro Bern Commerch (Paris, Preliminary of the Sauna, New\n",
      "Maximali Bern Californ Table\n",
      "The Maxion Hape\n",
      "The Maxion Proper (Pro. Seen, Pro. Seen of the Hapenn, Seatton Second Commerch of project, Project, Seatton Section, Project, New York, New York, Project, Section (A)\n",
      "Berum, Project, New York, New York, Wall, Project, Project, New York, Project, Second Lina, Second project, Section plan of the project, Sweden, Pro Building, Section (Paris, Pro Bern)\n",
      "The Balling Project, Motarcia, Project, Project, Project, Peri-Trustice Hallon, Seatttor, First Berum, Second Section (Perice of and perspective of perspective of perspective of the project, Second\n",
      "The Maxin Harra House, New York, New York, Season Teachion Harri House, Project, Project, Seatton Seatton America, Sick Project, Seatton Section (Proceed)\n",
      "Trump (Perspective)\n",
      "The Maxil Building, Seatttor\n",
      "The Maximatric Building Project, New York, Project, Mar Section (Paris, Mexico, Section (model Section)\n",
      "The Cata Harrout Project, Peri-Trafe\n",
      "Justickh (Exterior Medicala), Pericone, I (Paris, Flower)\n",
      "The Chair (Paris, Project, View (Pro of perspective)\n",
      "Tricks Berthatte Sellen\n",
      "The Maximatric American Seattin Project, New York, Braskann, Project, House, Paris (Periconer)\n",
      "First Villa Hall Thansson (Processe of perspective)\n",
      "Bitcone, Seatton Berlin (Pro. Alishing Project, Prometter, Section (Pro. Section of the project, Harware, SAL Berney, Project, New York, New York, Project, Seatttrick, Alijatical Section (Secial per\n",
      "Medical Maxic Building Bern Potterial Section (Processe, Perspective)\n",
      "The Varium, Seatton Commerts, Project, New York, Seatton Section (Paris, Project, Pro of Section (Propaller, Project, Project, Section, Sama, Seattto, Electures, Project, Project, Seatton Project, S\n",
      "Take Bern Colorato Project, Project, Seattin Section (model 1: The Hanglade, Section (Proceers\n",
      "Secide I Building Selente Building, Section (Exterior Second, Peri-)\n",
      "Lil Seat Section (Proceers\n",
      "Now Beach Section (Pro Building)\n",
      "Silving Project, Wall Balling Protectical Section (Set Brock)\n",
      "America, American Seatton Section (Paris, Pro. Harwanny, I (Selt Commerch of project, Project, Project, Project, Section (Pro. Section of project, Sauna, Pro. Project, Pro Plan Prosped Counterda, El\n",
      "See Project, Project, Seattte\n",
      "Brizzo, Electric Proper, Project, Alance Project, Perison Project, New York, New York, Project, Section (Perice (Perical of perspective)\n",
      "Auguel Commerch Project, New York, Section, Season Than, Pericone, American Section (Perical of the FA (Axono, Secone, I (Pro. Seen, Project, New York, Project, Project, Pro Brock\n",
      "First Moristoria, Plan Section (The Classes)\n",
      "Hanglade Bern Harria, Pro Season Harwaire\n",
      "The Villaga (Southerina)\n",
      "Take Bern Project, Seattto Maxic Pro Section (Pro. Section (Pro. Section (Medical 1: The Hanglade, Sessing Section (Alison Monal America, NBA (Seat, Seattto, Pro Fority, San Samila\n",
      "Building Californ Classecturi Bern Secister, Peri-Brazil (Pro. Some Hanaxa)\n",
      "Californ Project, New York, Pro Section (Perice of project, Sama, Pro Athall Hella Harri Meeting, Project, Presidence\n",
      "Selt House (PA)\n",
      "Tricking Project, Letiture (Perice (Pro. Paul, Setion (Paris, Section, I (Paris, The House, New York, Project, Project, Seatton Second Berney, Second and American Berution Bowl, Section (Alison Sect\n",
      "The Maximatric Second Berum Seltersway (Perice (Alison Propaller, Project, Project, Season Teaching, Seatttoo, Brazil, House (Mexico)\n",
      "Berum (Perical project, Seattte\n",
      "Serior project, Mexico, Architecturia, Pro Fill, Seattte House, Project, Electure Project, New York, Section (Exterior Medicala), Perishodman Project, Ferwan, Electure Berlin, Cata Proper, Pro Bioto\n",
      "The Merchael Cata Hall Section (Precibio, I (Alison Harri F) (Axon Silving)\n",
      "Birtharda, Demaxic Medical Space, Sama, Section (Plan Section)\n",
      "The Meet Mexico Proper Project, Section (Paris, Pro. House, New York, Project, New York, New York, Seatton Seatton Section (Alison of Project, Secone, Project, Project, Section (Exterior Seller)\n",
      "Selt Sea House (Pro of a (Proceers\n",
      "Selt Project, New York, Project, Project, Project, Setion Control Section (Emple) (Pro Bern, Project, Project, Section, Secone, Perior of the Medical Section (Pro. The Maxion, Project, New York, Sea\n",
      "Section (Pro of perspective)\n",
      "Section (Perice, Spring, Project, Project, Project, Project, Dox Hapenna\n",
      "Southajew (Pro of the Berlin, Pro. Section (Pro of the and perspective of project, Project, New York, Seatton Sena Commerch of the Monal Seatton Season Transcustice (Pericidion)\n",
      "Seattte Project, New York, Brazil, New York, New York, New York, Project, Secone, Second Banna, Project, Project, Project, Chementical Section (Emple) Section (Paris, Seatton Section)\n",
      "Selt Building Building, Section (Trumps (Paris, Sellen, Project, Project, Project, Project, Samajuari (I Bennand, Periconer)\n",
      "The Maxion Berum Project, Seatton Project, Pro Building, Section (Pro. Plan of First House, Sella, Sauna, Pro Building, Project, Setion Harrie, Section project, Canada, New York, Seattin Congle-Bern\n",
      "Section Section (Sellens)\n",
      "Teaching Project, Pro Paris, Seatton Section (Pericidion)\n",
      "Batter Section (Paris, Project, Flow (Pro. Selt CAnge, New York, Project, Project, New York, Chair, Pro Bern Thansementer, Pro Section (Exterior Second, Seatton Section (Paris, Project, Project, Pro\n",
      "Californ Building, Project, Project, New York, Seatton Season Transcusting Model Plan of Section (Pro Pro. The Medicala, First March, Project, Christickho, Seatton Seattion Section (PANAS)\n",
      "Max Commerch (Proceers\n",
      "Selt Building, Seatttroole Project, New York, Califore, Second Section (Pro of perspective)\n",
      "The Marla Harrout, Spring, Season Teaching, Seatton Section (Paul)\n",
      "The Maxion Harri Section (PANAPE)\n",
      "Seatton Conaxo Building, Champhien, Seattical Section (Paris, Pro. Than Sella, Seattto, Canado, Section project, New York, New York, New York, Project, Project, Project, New York, New York, Project,\n",
      "The Maxion House (Pro. Section for the Seconela, Seattte)\n",
      "Trump (Pro of perspective of project, Project, New York, Sick, Harra, EAT Hapot Bern Harri Hallon, Project, Peri-Trafelloral Sectional Cabland (Pro. Section (Paris, Section (Pro Section)\n",
      "Capit Brock\n",
      "Californ Building Project, Project, Project, Project, Sena Section (Pro. Section (Perical Section project, Perison project, Project, Project, Project, Section (Presidencitary (Pro. The Chair, New Yo\n",
      "The Maximatric Mothacturicatory (Pericilar from perspective)\n",
      "Tain, Project, America, Pericone, Elexia, Seatton Section (Pro. Section of site of perspective of perspective of project, New York, Mexico, Electric Clinnon (Pro plan)\n",
      "Perical Section (Pro. Section (Paris, Selling)\n",
      "Hapenus (Sellen, Project, Sama, Section (Pro. Section, perspective)\n",
      "The Califore Harri Than Well Project, Seattto, Pro Peri-Ballinal (model Project, Project, Section, Project, Section (Seat, Hanga, Selling), Alance Plan of The Mar Secility Sectional Seattto Proper,\n",
      "Built Meet Project, Cata Hallon, Second Bern Vase Probrary (Pro. Selt Paris, Printeria)\n",
      "DA Hilla, Season Trigation, Project, Mexico, Seattte\n",
      "Selt Bowl (Exterior Medicala), Saina, New York, Project, Seatton Season Transcusts, Charladis, Pro Democrat\n",
      "The All Section (Paris, Elexia)\n",
      "Make Section (Pro Berchin,” Bern, Seattte\n",
      "Belth Building, Periconboard Commerch, Pro Bern Comickoal (Alance (Paris, Project, Section, Section (Trumps, Secial project, Prometoria, Project, New York, Seatton Section, Project, Seatton Second S\n",
      "Seatton Section (Paris, Seatton Section, perspective)\n",
      "Democrat\n",
      "The Maximatric Paris Project, Sena Section project, New York, New York, Project, Project, Project, Pro of The Berlin, Seattte\n",
      "Meet First Berum Section (Pro Bangladesh, Pro. Sellen\n",
      "Selt Bern Building, Champs\n",
      "Meet House (Pro of perspective)\n",
      "Californ Californ Seat Section (Exterior Second, Second, New York, Project, Project, Peri-DAAP PANASO TOON CAOP Beruca, Electures\n",
      "Comilian Colar Berlin (Pro. Section (Paris, Pro Bowl)\n",
      "Californ, Mexico, Project, Athall Barge Project, Perison Canada, Pro Building, New York, Project, Project, Perison Swandwite Californ, I Berum, Seatton Section (Alison Section (Paris, Mexico, Pro. P\n",
      "Secide Building Second Section (Pro of plan and perspective)\n",
      "The Canada Maxil Project, Paris, Alance Hapen, Brack\n",
      "Building Pro Plan Section Section (Paris, Section (Paris, Section of project, Paris, Project, Project, Perison Solux (Perice, Pro Bangladesh, New York, Silving, Section (Paris, project, Project, Pre\n",
      "Comickholo, Project, Doxam, Seat, Project, Seat and Firtt Batter, First Monal Peri-Pro Commentery (Pro Banglades)\n",
      "Welllem, Project, New York, Sweden, Section (Pro. Section (Pericilar and perspective)\n",
      "Maxic Prote Berlin, Prince Project, Project, Seatton Section (Pro Perspective)\n",
      "The Maximatration Berlin I Be The Park\n",
      "Maxion I Berum Paul Project, Samajuari (Pro of perspective)\n",
      "Hapenuar Section\n",
      "Secide Berlin Batter\n",
      "Selt Hapenna\n",
      "The Main McCartaction Classed Michael Californ (Pericopal of perspective)\n"
     ]
    }
   ],
   "source": [
    "titles_list = textgen2.generate(100, temperature=0.3, return_as_list=True)\n",
    "for line in titles_list:\n",
    "    print(line.strip())"
   ]
  }
 ],
 "metadata": {
  "kernelspec": {
   "display_name": "Python 3",
   "language": "python",
   "name": "python3"
  },
  "language_info": {
   "codemirror_mode": {
    "name": "ipython",
    "version": 3
   },
   "file_extension": ".py",
   "mimetype": "text/x-python",
   "name": "python",
   "nbconvert_exporter": "python",
   "pygments_lexer": "ipython3",
   "version": "3.6.8"
  }
 },
 "nbformat": 4,
 "nbformat_minor": 2
}
